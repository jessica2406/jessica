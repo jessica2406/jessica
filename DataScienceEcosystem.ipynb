{
  "metadata": {
    "language_info": {
      "codemirror_mode": {
        "name": "python",
        "version": 3
      },
      "file_extension": ".py",
      "mimetype": "text/x-python",
      "name": "python",
      "nbconvert_exporter": "python",
      "pygments_lexer": "ipython3",
      "version": "3.8"
    },
    "kernelspec": {
      "name": "python",
      "display_name": "Python (Pyodide)",
      "language": "python"
    }
  },
  "nbformat_minor": 4,
  "nbformat": 4,
  "cells": [
    {
      "cell_type": "markdown",
      "source": "# Data Science Tools and Ecosystem\nIn this notebook, Data Science Tools and Ecosystem are summarized.\nSome of the popular languages that Data Scientists use are:\n1. R\n2. SQL\n3. JAVA\n4. JULIA\nSome of the commonly used libraries used by Data Scientists include:\n1. pandas\n2. numpy\n3. pythorch\n4. tensorflow\n|Data Science Tools|\n|RStudio|\n|Apache Spark|\n|TensorFlow|\n### Below are a few examples of evaluating arithmetic expressions in Python",
      "metadata": {}
    },
    {
      "cell_type": "code",
      "source": "(3*4)+5\n#This a simple arithmetic expression to mutiply then add integers",
      "metadata": {
        "trusted": true
      },
      "execution_count": 2,
      "outputs": [
        {
          "execution_count": 2,
          "output_type": "execute_result",
          "data": {
            "text/plain": "17"
          },
          "metadata": {}
        }
      ]
    },
    {
      "cell_type": "code",
      "source": "hours = 200 / 60\nprint(hours)",
      "metadata": {
        "trusted": true
      },
      "execution_count": 3,
      "outputs": [
        {
          "name": "stdout",
          "text": "3.3333333333333335\n",
          "output_type": "stream"
        }
      ]
    },
    {
      "cell_type": "markdown",
      "source": "***Objectives:***\n-List popular languages for Data Science\n-libraries used by Data Scientists\n-Data Science Tools\n-evaluating arithmetic expressions",
      "metadata": {}
    },
    {
      "cell_type": "markdown",
      "source": "## Author\nA JESSICA",
      "metadata": {}
    }
  ]
}